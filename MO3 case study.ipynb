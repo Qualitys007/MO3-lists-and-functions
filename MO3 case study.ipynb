{
 "cells": [
  {
   "cell_type": "code",
   "execution_count": 3,
   "metadata": {},
   "outputs": [
    {
     "name": "stdout",
     "output_type": "stream",
     "text": [
      "\n",
      "Vehicle details:\n",
      "Vehicle type: car\n",
      "Year: w\n",
      "Make: w\n",
      "Model: w\n",
      "Number of doors: wdd\n",
      "Type of roof: d\n"
     ]
    }
   ],
   "source": [
    "# Superclass Vehicle\n",
    "class Vehicle:\n",
    "    def __init__(self, vehicle_type):\n",
    "        self.vehicle_type = vehicle_type\n",
    "\n",
    "# Subclass Automobile, inheriting from Vehicle\n",
    "class Automobile(Vehicle):\n",
    "    def __init__(self, vehicle_type, year, make, model, doors, roof):\n",
    "        super().__init__(vehicle_type)  # Inherit vehicle_type from Vehicle\n",
    "        self.year = year\n",
    "        self.make = make\n",
    "        self.model = model\n",
    "        self.doors = doors\n",
    "        self.roof = roof\n",
    "\n",
    "    def display_info(self):\n",
    "        # Display all the information in a readable format\n",
    "        print(f\"Vehicle type: {self.vehicle_type}\")\n",
    "        print(f\"Year: {self.year}\")\n",
    "        print(f\"Make: {self.make}\")\n",
    "        print(f\"Model: {self.model}\")\n",
    "        print(f\"Number of doors: {self.doors}\")\n",
    "        print(f\"Type of roof: {self.roof}\")\n",
    "\n",
    "# Main app logic\n",
    "def main():\n",
    "    # Ask the user what type of vehicle they have\n",
    "    vehicle_type = input(\"What type of vehicle do you have (car, truck, plane, boat, broomstick)? \").lower()\n",
    "\n",
    "    # Ensure the vehicle type is one of the allowed options\n",
    "    while vehicle_type not in [\"car\", \"truck\", \"plane\", \"boat\", \"broomstick\"]:\n",
    "        print(\"Invalid input. Please enter one of the following: car, truck, plane, boat, broomstick.\")\n",
    "        vehicle_type = input(\"What type of vehicle do you have (car, truck, plane, boat, broomstick)? \").lower()\n",
    "\n",
    "    # Only proceed with collecting additional info if the vehicle is a car (since doors and roof are relevant only for cars)\n",
    "    if vehicle_type == \"car\":\n",
    "        year = input(\"Enter the year of the car: \")\n",
    "        make = input(\"Enter the make of the car: \")\n",
    "        model = input(\"Enter the model of the car: \")\n",
    "        doors = input(\"Enter the number of doors (2 or 4): \")\n",
    "        roof = input(\"Enter the type of roof (solid or sun roof): \")\n",
    "\n",
    "        # Create an instance of Automobile\n",
    "        vehicle = Automobile(vehicle_type, year, make, model, doors, roof)\n",
    "    else:\n",
    "        # For non-car vehicles, just gather basic information (year, make, model)\n",
    "        year = input(f\"Enter the year of the {vehicle_type}: \")\n",
    "        make = input(f\"Enter the make of the {vehicle_type}: \")\n",
    "        model = input(f\"Enter the model of the {vehicle_type}: \")\n",
    "\n",
    "        # Create an instance of Vehicle with only the basic attributes\n",
    "        vehicle = Vehicle(vehicle_type)\n",
    "        vehicle.year = year\n",
    "        vehicle.make = make\n",
    "        vehicle.model = model\n",
    "\n",
    "    # Display the information\n",
    "    print(\"\\nVehicle details:\")\n",
    "    vehicle.display_info()\n",
    "\n",
    "# Run the app\n",
    "if __name__ == \"__main__\":\n",
    "    main()\n"
   ]
  }
 ],
 "metadata": {
  "kernelspec": {
   "display_name": "Python 3",
   "language": "python",
   "name": "python3"
  },
  "language_info": {
   "codemirror_mode": {
    "name": "ipython",
    "version": 3
   },
   "file_extension": ".py",
   "mimetype": "text/x-python",
   "name": "python",
   "nbconvert_exporter": "python",
   "pygments_lexer": "ipython3",
   "version": "3.12.5"
  }
 },
 "nbformat": 4,
 "nbformat_minor": 2
}
